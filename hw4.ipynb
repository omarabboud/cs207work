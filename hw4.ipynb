{
 "cells": [
  {
   "cell_type": "markdown",
   "metadata": {},
   "source": [
    "## Q1.\n",
    "\n",
    "Use github to integrate our math library from the lab with Travis CI and Coveralls.\n",
    "In the cell below, put a link to your github `cs207test` repo so we can track your badges."
   ]
  },
  {
   "cell_type": "markdown",
   "metadata": {},
   "source": [
    "https://github.com/omarabboud/cs207test"
   ]
  },
  {
   "cell_type": "markdown",
   "metadata": {},
   "source": [
    "## Q2.\n",
    "\n",
    "Take the implementation of binary search from a previous lecture/lab. Write unit tests for the algorithm (remember we have doctests in there), stripping the doctests down to those that illustrate the interface for a user. How do these doctests deal with the concerns we had?\n",
    "\n",
    "Make sure you have good test coverage. You will be integrationg with Travis and Coveralls."
   ]
  },
  {
   "cell_type": "code",
   "execution_count": 2,
   "metadata": {
    "collapsed": false
   },
   "outputs": [
    {
     "name": "stdout",
     "output_type": "stream",
     "text": [
      "Overwriting binsearch.py\n"
     ]
    }
   ],
   "source": [
    "%%file binsearch.py\n",
    "def binary_search(da_array: list, needle, left:int=0, right:int=-1) -> int:\n",
    "    \"\"\"\n",
    "    An algorithm that operates in O(lg(n)) to search for an element\n",
    "    in an array sorted in ascending order.\n",
    "    \n",
    "    Parameters\n",
    "    ----------\n",
    "    da_array : list\n",
    "        a list of \"comparable\"items sorted in non-descending order\n",
    "    needle: an item to find in the array; it may or may not\n",
    "        be in the array\n",
    "    left: int, optional\n",
    "        the left index in the array to search from. Default 0\n",
    "    right: int, optional\n",
    "        the right index in the array to search to. Default is -1\n",
    "        in which case we will use the end of the array `len(da_array) - 1`\n",
    "        \n",
    "    Returns\n",
    "    -------\n",
    "    index: int\n",
    "        an integer representing the index of `needle` if found, and -1\n",
    "        otherwise\n",
    "        \n",
    "    Notes\n",
    "    -----\n",
    "    PRE: `da_array` is sorted in non-decreasing order (thus items in\n",
    "        `da_array` must be comparable: implement < and ==)\n",
    "    POST: \n",
    "        - `da_array` is not changed by this function (immutable)\n",
    "        - returns `index`=-1 if `needle` is not in `da_array`\n",
    "        - returns an int `index ` in [0:len(da_array)] if\n",
    "          `index` is in `da_array`\n",
    "    INVARIANTS:\n",
    "        - If `needle` in `da_array`, needle in `da_array[rangemin:rangemax]`\n",
    "          is a loop invariant in the while loop below.\n",
    "          \n",
    "    Examples\n",
    "    --------\n",
    "    >>> input = list(range(10))\n",
    "    >>> binary_search(input, 5)\n",
    "    5\n",
    "    >>> binary_search(input, 4.5)\n",
    "    -1\n",
    "    >>> binary_search(input, 10)\n",
    "    -1\n",
    "    >>> binary_search([5], 5)\n",
    "    0\n",
    "    >>> binary_search([5], 4)\n",
    "    -1\n",
    "    >>> import numpy as np\n",
    "    >>> binary_search([1,2,np.inf], 2)\n",
    "    1\n",
    "    >>> binary_search([1,2,np.inf], np.inf)\n",
    "    2\n",
    "    >>> binary_search(input, 5, 1,3)\n",
    "    -1\n",
    "    >>> binary_search(input, 2, 1,3)\n",
    "    2\n",
    "    >>> binary_search(input, 2, 3, 1)\n",
    "    -1\n",
    "    >>> binary_search(input, 2, 2, 2)\n",
    "    2\n",
    "    >>> binary_search(input, 5, 2, 2)\n",
    "    -1\n",
    "    \"\"\"\n",
    "    if left==0:\n",
    "        rangemin = 0\n",
    "    else:\n",
    "        rangemin = left\n",
    "    if right==-1:\n",
    "        rangemax=len(da_array) - 1\n",
    "    else:\n",
    "        rangemax=right\n",
    "    while True:\n",
    "        \"needle in da_array => needle in da_array[rangemin:rangemax]\"   \n",
    "        if rangemin > rangemax:\n",
    "            index = -1\n",
    "            return index\n",
    "        #If rangemin and rangemax are both very high we do not want overflow,\n",
    "        #so get the midpoint like this:\n",
    "        midpoint = rangemin + (rangemax - rangemin)//2\n",
    "        if da_array[midpoint] > needle:#lower part\n",
    "            rangemax = midpoint - 1\n",
    "        elif da_array[midpoint] < needle:\n",
    "            rangemin = midpoint + 1\n",
    "        else:\n",
    "            index = midpoint\n",
    "            return index\n"
   ]
  },
  {
   "cell_type": "code",
   "execution_count": 39,
   "metadata": {
    "collapsed": false
   },
   "outputs": [
    {
     "name": "stdout",
     "output_type": "stream",
     "text": [
      "Overwriting test_binsearch.py\n"
     ]
    }
   ],
   "source": [
    "%%file test_binsearch.py\n",
    "\n",
    "from pytest import raises\n",
    "from binsearch import binary_search\n",
    "\n",
    "def test_notthere():\n",
    "    assert binary_search([1, 3, 5],2) == -1\n",
    "\n",
    "def test_there():\n",
    "    assert binary_search([1, 3, 5],3) == 1\n",
    "\n",
    "def array_len():\n",
    "    with raises(ValueError):\n",
    "        binary_search([],3)\n",
    "        \n",
    "def index_len():\n",
    "    with raises(ValueError):\n",
    "        binary_search([1,3,5])\n",
    "    \n",
    "def int_char():\n",
    "    with raises(TypeError):\n",
    "        binary_search([1,3,5,8],3,'a')\n",
    "    \n",
    "def int_order():\n",
    "    with raises(ValueError):\n",
    "        binary_search([1,3,5,8],3,1)"
   ]
  },
  {
   "cell_type": "code",
   "execution_count": 19,
   "metadata": {
    "collapsed": false
   },
   "outputs": [
    {
     "name": "stdout",
     "output_type": "stream",
     "text": [
      "\u001b[1m============================= test session starts ==============================\u001b[0m\n",
      "platform darwin -- Python 2.7.12, pytest-2.9.2, py-1.4.31, pluggy-0.3.1\n",
      "rootdir: /Users/omarabboud1/Documents/Harvard Documents/cs207/cs207-files/cs207-2016/homeworks, inifile: \n",
      "plugins: cov-2.3.1\n",
      "collected 0 items / 4 errors \n",
      "\u001b[0m\n",
      "\n",
      "---------- coverage: platform darwin, python 2.7.12-final-0 ----------\n",
      "Name                Stmts   Miss  Cover   Missing\n",
      "-------------------------------------------------\n",
      "test_binsearch.py      10      8    20%   5-14\n",
      "\n",
      "==================================== ERRORS ====================================\n",
      "________________________ ERROR collecting binsearch.py _________________________\n",
      "//anaconda/lib/python2.7/site-packages/py/_path/local.py:650: in pyimport\n",
      "\u001b[1m    __import__(modname)\u001b[0m\n",
      "\u001b[1m\u001b[31mE     File \"/Users/omarabboud1/Documents/Harvard Documents/cs207/cs207-files/cs207-2016/homeworks/binsearch.py\", line 1\u001b[0m\n",
      "\u001b[1m\u001b[31mE       def binary_search(da_array: list, needle, left:int=0, right:int=-1) -> int:\u001b[0m\n",
      "\u001b[1m\u001b[31mE                                 ^\u001b[0m\n",
      "\u001b[1m\u001b[31mE   SyntaxError: invalid syntax\u001b[0m\n",
      "________________________ ERROR collecting binsearch.py _________________________\n",
      "\u001b[31m//anaconda/lib/python2.7/site-packages/_pytest/python.py:611: in _importtestmodule\n",
      "    mod = self.fspath.pyimport(ensuresyspath=importmode)\n",
      "//anaconda/lib/python2.7/site-packages/py/_path/local.py:650: in pyimport\n",
      "    __import__(modname)\n",
      "E     File \"/Users/omarabboud1/Documents/Harvard Documents/cs207/cs207-files/cs207-2016/homeworks/binsearch.py\", line 1\n",
      "E       def binary_search(da_array: list, needle, left:int=0, right:int=-1) -> int:\n",
      "E                                 ^\n",
      "E   SyntaxError: invalid syntax\u001b[0m\n",
      "______________________ ERROR collecting test_binsearch.py ______________________\n",
      "test_binsearch.py:3: in <module>\n",
      "\u001b[1m    from binsearch import binary_search\u001b[0m\n",
      "\u001b[1m\u001b[31mE     File \"/Users/omarabboud1/Documents/Harvard Documents/cs207/cs207-files/cs207-2016/homeworks/binsearch.py\", line 1\u001b[0m\n",
      "\u001b[1m\u001b[31mE       def binary_search(da_array: list, needle, left:int=0, right:int=-1) -> int:\u001b[0m\n",
      "\u001b[1m\u001b[31mE                                 ^\u001b[0m\n",
      "\u001b[1m\u001b[31mE   SyntaxError: invalid syntax\u001b[0m\n",
      "______________________ ERROR collecting test_binsearch.py ______________________\n",
      "\u001b[31m//anaconda/lib/python2.7/site-packages/_pytest/python.py:611: in _importtestmodule\n",
      "    mod = self.fspath.pyimport(ensuresyspath=importmode)\n",
      "//anaconda/lib/python2.7/site-packages/py/_path/local.py:650: in pyimport\n",
      "    __import__(modname)\n",
      "//anaconda/lib/python2.7/site-packages/_pytest/assertion/rewrite.py:171: in load_module\n",
      "    py.builtin.exec_(co, mod.__dict__)\n",
      "test_binsearch.py:3: in <module>\n",
      "    from binsearch import binary_search\n",
      "E     File \"/Users/omarabboud1/Documents/Harvard Documents/cs207/cs207-files/cs207-2016/homeworks/binsearch.py\", line 1\n",
      "E       def binary_search(da_array: list, needle, left:int=0, right:int=-1) -> int:\n",
      "E                                 ^\n",
      "E   SyntaxError: invalid syntax\u001b[0m\n",
      "\u001b[1m\u001b[31m=========================== 4 error in 0.33 seconds ============================\u001b[0m\n"
     ]
    }
   ],
   "source": [
    "!py.test --doctest-modules --cov --cov-report term-missing binsearch.py test_binsearch.py"
   ]
  },
  {
   "cell_type": "code",
   "execution_count": 6,
   "metadata": {
    "collapsed": false
   },
   "outputs": [
    {
     "name": "stdout",
     "output_type": "stream",
     "text": [
      "Cloning into '/tmp/cs207binsearch'...\n",
      "warning: You appear to have cloned an empty repository.\n",
      "Checking connectivity... done.\n"
     ]
    }
   ],
   "source": [
    "!rm -rf /tmp/cs207test\n",
    "!git clone git@github.com:omarabboud/cs207binsearch.git /tmp/cs207binsearch"
   ]
  },
  {
   "cell_type": "code",
   "execution_count": 40,
   "metadata": {
    "collapsed": true
   },
   "outputs": [],
   "source": [
    "!cp binsearch.py test_binsearch.py /tmp/cs207binsearch/"
   ]
  },
  {
   "cell_type": "code",
   "execution_count": 9,
   "metadata": {
    "collapsed": false
   },
   "outputs": [
    {
     "name": "stdout",
     "output_type": "stream",
     "text": [
      "Writing /tmp/cs207binsearch/setup.cfg\n"
     ]
    }
   ],
   "source": [
    "%%file /tmp/cs207binsearch/setup.cfg\n",
    "[pytest]"
   ]
  },
  {
   "cell_type": "code",
   "execution_count": 12,
   "metadata": {
    "collapsed": false
   },
   "outputs": [
    {
     "ename": "SyntaxError",
     "evalue": "invalid syntax (<ipython-input-12-d5f9b73db164>, line 1)",
     "output_type": "error",
     "traceback": [
      "\u001b[0;36m  File \u001b[0;32m\"<ipython-input-12-d5f9b73db164>\"\u001b[0;36m, line \u001b[0;32m1\u001b[0m\n\u001b[0;31m    addopts = --doctest-modules --cov-report term-missing --cov amath\u001b[0m\n\u001b[0m                                                ^\u001b[0m\n\u001b[0;31mSyntaxError\u001b[0m\u001b[0;31m:\u001b[0m invalid syntax\n"
     ]
    }
   ],
   "source": [
    "addopts = --doctest-modules --cov-report term-missing --cov amath"
   ]
  },
  {
   "cell_type": "code",
   "execution_count": 11,
   "metadata": {
    "collapsed": false
   },
   "outputs": [
    {
     "name": "stdout",
     "output_type": "stream",
     "text": [
      "Writing /tmp/cs207binsearch/.travis.yml\n"
     ]
    }
   ],
   "source": [
    "%%file /tmp/cs207binsearch/.travis.yml\n",
    "language: python\n",
    "python:\n",
    "    - \"3.5\"\n",
    "before_install:\n",
    "    - pip install pytest pytest-cov\n",
    "script:\n",
    "    - py.test"
   ]
  },
  {
   "cell_type": "code",
   "execution_count": 13,
   "metadata": {
    "collapsed": false
   },
   "outputs": [
    {
     "name": "stdout",
     "output_type": "stream",
     "text": [
      "/tmp/cs207binsearch ~/Documents/Harvard Documents/cs207/cs207-files/cs207-2016/homeworks\n",
      "[master (root-commit) 55ac464] travis integration\n",
      " 4 files changed, 111 insertions(+)\n",
      " create mode 100644 .travis.yml\n",
      " create mode 100644 binsearch.py\n",
      " create mode 100644 setup.cfg\n",
      " create mode 100644 test_binsearch.py\n",
      "~/Documents/Harvard Documents/cs207/cs207-files/cs207-2016/homeworks\n"
     ]
    },
    {
     "name": "stderr",
     "output_type": "stream",
     "text": [
      "To git@github.com:omarabboud/cs207binsearch.git\n",
      " * [new branch]      master -> master\n"
     ]
    }
   ],
   "source": [
    "%%bash\n",
    "pushd /tmp/cs207binsearch\n",
    "git add .\n",
    "git commit -m \"travis integration\" -a\n",
    "git push\n",
    "popd"
   ]
  },
  {
   "cell_type": "code",
   "execution_count": 14,
   "metadata": {
    "collapsed": false
   },
   "outputs": [
    {
     "name": "stdout",
     "output_type": "stream",
     "text": [
      "Overwriting /tmp/cs207binsearch/.travis.yml\n"
     ]
    }
   ],
   "source": [
    "%%file /tmp/cs207binsearch/.travis.yml\n",
    "language: python\n",
    "python:\n",
    "    - \"3.5\"\n",
    "before_install:\n",
    "    - pip install pytest pytest-cov\n",
    "    - pip install coveralls\n",
    "script:\n",
    "    - py.test\n",
    "after_success:\n",
    "    - coveralls"
   ]
  },
  {
   "cell_type": "code",
   "execution_count": 22,
   "metadata": {
    "collapsed": false
   },
   "outputs": [
    {
     "name": "stdout",
     "output_type": "stream",
     "text": [
      "/tmp/cs207binsearch ~/Documents/Harvard Documents/cs207/cs207-files/cs207-2016/homeworks\n",
      "[master 4b0eb2d] added coveralls\n",
      " 1 file changed, 1 insertion(+), 1 deletion(-)\n",
      "~/Documents/Harvard Documents/cs207/cs207-files/cs207-2016/homeworks\n"
     ]
    },
    {
     "name": "stderr",
     "output_type": "stream",
     "text": [
      "To git@github.com:omarabboud/cs207binsearch.git\n",
      "   1e3b38a..4b0eb2d  master -> master\n"
     ]
    }
   ],
   "source": [
    "%%bash\n",
    "pushd /tmp/cs207binsearch\n",
    "git add .\n",
    "git commit -m \"added coveralls\" -a\n",
    "git push\n",
    "popd"
   ]
  },
  {
   "cell_type": "code",
   "execution_count": 41,
   "metadata": {
    "collapsed": false
   },
   "outputs": [
    {
     "name": "stdout",
     "output_type": "stream",
     "text": [
      "/tmp/cs207binsearch ~/Documents/Harvard Documents/cs207/cs207-files/cs207-2016/homeworks\n",
      "[master 8ec4c0c] fixing tests 2\n",
      " 1 file changed, 5 insertions(+), 1 deletion(-)\n",
      "~/Documents/Harvard Documents/cs207/cs207-files/cs207-2016/homeworks\n"
     ]
    },
    {
     "name": "stderr",
     "output_type": "stream",
     "text": [
      "To git@github.com:omarabboud/cs207binsearch.git\n",
      "   7bcd960..8ec4c0c  master -> master\n"
     ]
    }
   ],
   "source": [
    "%%bash\n",
    "pushd /tmp/cs207binsearch\n",
    "git add .\n",
    "git commit -m \"fixing tests 2\" -a\n",
    "git push\n",
    "popd"
   ]
  },
  {
   "cell_type": "code",
   "execution_count": 42,
   "metadata": {
    "collapsed": false
   },
   "outputs": [
    {
     "name": "stdout",
     "output_type": "stream",
     "text": [
      "Writing /tmp/cs207binsearch/README.md\n"
     ]
    }
   ],
   "source": [
    "%%file /tmp/cs207binsearch/README.md\n",
    "\n",
    "[![Build Status](https://travis-ci.org/omarabboud/cs207binsearch.svg?branch=master)](https://travis-ci.org/omarabboud/cs207binsearch)\n",
    "\n",
    "[![Coverage Status](https://coveralls.io/repos/github/omarabboud/cs207binsearch/badge.svg?branch=master)](https://coveralls.io/github/omarabboud/cs207binsearch?branch=master)"
   ]
  },
  {
   "cell_type": "code",
   "execution_count": 43,
   "metadata": {
    "collapsed": false
   },
   "outputs": [
    {
     "name": "stdout",
     "output_type": "stream",
     "text": [
      "/tmp/cs207binsearch ~/Documents/Harvard Documents/cs207/cs207-files/cs207-2016/homeworks\n",
      "[master af93557] added badges\n",
      " 1 file changed, 4 insertions(+)\n",
      " create mode 100644 README.md\n",
      "~/Documents/Harvard Documents/cs207/cs207-files/cs207-2016/homeworks\n"
     ]
    },
    {
     "name": "stderr",
     "output_type": "stream",
     "text": [
      "To git@github.com:omarabboud/cs207binsearch.git\n",
      "   8ec4c0c..af93557  master -> master\n"
     ]
    }
   ],
   "source": [
    "%%bash\n",
    "pushd /tmp/cs207binsearch\n",
    "git add .\n",
    "git commit -m \"added badges\" -a\n",
    "git push\n",
    "popd"
   ]
  },
  {
   "cell_type": "markdown",
   "metadata": {},
   "source": [
    "In addition, we should be **systematic** about testing our code. You should at-least jave some tests like this:\n",
    "\n",
    "1. We should test with wierd data, ie a wierd array: does it have NANs, is it numeric? Does it have 0 elelemts? 1 element? 2?...ie test the boundaries\n",
    "\n",
    "2. Then think of how the needle relates to the above. Try needles less than or greter than the range in the sorted array, besides needles inbetween (in both cases the needle not being in the array). Try needles at the extremes of the array.\n",
    "\n",
    "3. test the integration of 1 and 2 to make sure something has not gone wrong there.\n",
    "\n",
    "Note: you can always compare your answers with linear search implemented in python."
   ]
  },
  {
   "cell_type": "markdown",
   "metadata": {},
   "source": [
    "For reference, here are some of our concerns from that lab:\n",
    "\n",
    "#### What's happened to our issue from before?\n",
    "\n",
    "- What if the value is not there in the array? What if it is there multiple times? what are we returning (why the -1). Are we consistent in our returning?\n",
    "\n",
    "We return -1 if the element is not in the array. If it is there multiple times, we will return one of them: it is not defined which. We are consistent by always returning an int, choosing one which cannot be an index.\n",
    "\n",
    "- What if rangemax is so high as to create overflow: \n",
    "\n",
    "We fixed it by using the difference and have documented it in the algorithm\n",
    "\n",
    "\n",
    "- what types are we supporting? . \n",
    "\n",
    "It seems that as long as we have a notion of equals `==`, and a notion of `<` to support sorting we are set. We should document this.\n",
    "\n",
    "- what happens if we have a NaN in our array? Infty?\n",
    "\n",
    "If our preconditions are violated by the user, we can do anything. Doing it nicely might be costly. so we wont.\n",
    "\n",
    "\n",
    "- what if da_array was not an array?\n",
    "\n",
    "The user violated the pre-conditions. Anything could happen. We could check for a list\n",
    "but yhen that would hurt a special class which implemented the python sequence protocol\n",
    "\n",
    "- What happens if array is not sorted: \n",
    "\n",
    "The user violated the pre-conditions. We could return an error, violate post conditions. If we sort it we'd violate the o(lg(n)) notion. (fixing it seems dubious). Can we check if its sorted? This is naively O(n) and breaks our performance specifications. We can create a guard to terminate the array at more than n iterations for the infinite case or let the user have enough rope to hang themselves\n",
    "\n"
   ]
  },
  {
   "cell_type": "markdown",
   "metadata": {},
   "source": [
    "**Submit** this to us by creating a repo `cs207binsearch` under your userid with a file `binarysearch.py` and accompanying test file(s). Intergrate with Travis CI and Coveralls. Set up badges on the README of your repo. Write the link to your repo below."
   ]
  },
  {
   "cell_type": "markdown",
   "metadata": {},
   "source": [
    "https://github.com/omarabboud/cs207binsearch"
   ]
  },
  {
   "cell_type": "code",
   "execution_count": null,
   "metadata": {
    "collapsed": true
   },
   "outputs": [],
   "source": []
  }
 ],
 "metadata": {
  "anaconda-cloud": {},
  "kernelspec": {
   "display_name": "Python [Root]",
   "language": "python",
   "name": "Python [Root]"
  },
  "language_info": {
   "codemirror_mode": {
    "name": "ipython",
    "version": 2
   },
   "file_extension": ".py",
   "mimetype": "text/x-python",
   "name": "python",
   "nbconvert_exporter": "python",
   "pygments_lexer": "ipython2",
   "version": "2.7.12"
  }
 },
 "nbformat": 4,
 "nbformat_minor": 0
}
